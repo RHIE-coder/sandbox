{
 "cells": [
  {
   "cell_type": "code",
   "execution_count": 83,
   "id": "c6fa0fb0-3ea0-410b-ad9d-e1cd1187ee6a",
   "metadata": {},
   "outputs": [],
   "source": [
    "from playwright.async_api import async_playwright, Playwright, Page\n",
    "from abc import ABC, abstractmethod\n",
    "\n",
    "async def start_playwright():\n",
    "    return await async_playwright().start()\n",
    "\n",
    "async def get_chromium(playwright:Playwright, options:dict=None):\n",
    "    if options is None:\n",
    "        options = dict(\n",
    "            headless=False,\n",
    "            # headless=True,\n",
    "            slow_mo=500,\n",
    "            # args=[\n",
    "            #     \"--start-maximized\",\n",
    "            # ],\n",
    "        )\n",
    "    chromium = playwright.chromium\n",
    "    return await chromium.launch(**options)\n",
    "\n",
    "\n",
    "async def load_default_page(*, reset_session=False):\n",
    "    playwright = await start_playwright()\n",
    "    chrome = await get_chromium(playwright)\n",
    "    context = None\n",
    "    try:\n",
    "        if reset_session:\n",
    "            context = await chrome.new_context()\n",
    "        else:\n",
    "            context = await chrome.new_context(storage_state=\".auth/state.json\")\n",
    "    except:\n",
    "        context = await chrome.new_context()\n",
    "    page = await context.new_page()\n",
    "    await page.set_viewport_size({\"width\": 950, \"height\": 1000})\n",
    "    page.set_default_timeout(6000)\n",
    "    return page\n",
    "\n",
    "\n",
    "##########################################\n",
    "#\n",
    "#          BasePage\n",
    "#\n",
    "##########################################\n",
    "class BasePage(ABC):\n",
    "    def __init__(self, page:Page):\n",
    "        self.__page = page\n",
    "        self.components()\n",
    "    \n",
    "    @property\n",
    "    def page(self):\n",
    "        return self.__page\n",
    "\n",
    "    async def goto(self):\n",
    "        await self.__page.goto(self.url())\n",
    "\n",
    "    async def wait_for_no_overlay(self):\n",
    "        overlay = self.page.locator('.blockUI.blockOverlay')\n",
    "        await overlay.wait_for(state=\"detached\", timeout=5000)\n",
    "    \n",
    "    @abstractmethod\n",
    "    def url(self):\n",
    "        raise ReferenceError(\"the url is empty\")\n",
    "\n",
    "    @abstractmethod\n",
    "    def components(self):\n",
    "        raise ReferenceError(\"should override components()\")"
   ]
  },
  {
   "cell_type": "code",
   "execution_count": 126,
   "id": "18bd9283-049a-4f86-8523-65c73481f749",
   "metadata": {},
   "outputs": [],
   "source": [
    "class AnkrChainList(BasePage):\n",
    "    def url(self):\n",
    "        return \"https://www.ankr.com/web3-api/chains-list/\"\n",
    "\n",
    "    def components(self):\n",
    "        self.card_section = self.page.locator(selector=\".jss344\")\n",
    "        self.requests_info_field = self.card_section.locator(\".jss539\")\n",
    "        \n",
    "    def convert_to_number(self, value: str) -> float:\n",
    "        try:\n",
    "            if 'B' in value:\n",
    "                convert_result = float(value.replace('B', '').strip()) * 1e9\n",
    "                return int(convert_result)\n",
    "            if 'M' in value:\n",
    "                convert_result = float(value.replace('M', '').strip()) * 1e6\n",
    "                return int(convert_result)\n",
    "            if 'K' in value:\n",
    "                convert_result = float(value.replace('K', '').strip()) * 1e3\n",
    "                return int(convert_result)\n",
    "            return int(value)\n",
    "        except:\n",
    "            return None\n",
    "\n",
    "    def format_large_number(self, number: float) -> str:\n",
    "        if number >= 1e9:\n",
    "            return f\"{number / 1e9:.1f}B\"\n",
    "        elif number >= 1e6:\n",
    "            return f\"{number / 1e6:.1f}M\"\n",
    "        elif number >= 1e3:\n",
    "            return f\"{number / 1e3:.1f}K\"\n",
    "        else:\n",
    "            return str(number)"
   ]
  },
  {
   "cell_type": "code",
   "execution_count": 127,
   "id": "f3ea9f29-da11-4c02-9b88-ca8e86f50649",
   "metadata": {},
   "outputs": [],
   "source": [
    "page = await load_default_page()\n",
    "ankr = AnkrChainList(page)"
   ]
  },
  {
   "cell_type": "code",
   "execution_count": 128,
   "id": "e0b63bf3-37c4-44f9-a1e4-ba6db1a223e0",
   "metadata": {},
   "outputs": [],
   "source": [
    "await ankr.goto()"
   ]
  },
  {
   "cell_type": "code",
   "execution_count": 129,
   "id": "4365b226-d271-4a6c-b2f5-3728607f99e7",
   "metadata": {},
   "outputs": [],
   "source": [
    "section = ankr.card_section"
   ]
  },
  {
   "cell_type": "code",
   "execution_count": 130,
   "id": "fbfacacb-ee5a-4b75-88bc-7888b3307197",
   "metadata": {},
   "outputs": [],
   "source": [
    "requests_info_field = section.locator(\".jss539\")"
   ]
  },
  {
   "cell_type": "code",
   "execution_count": 131,
   "id": "0bc41681-58e9-4be5-9d9b-45115fc97959",
   "metadata": {},
   "outputs": [],
   "source": [
    "total = 0\n",
    "\n",
    "for idx in range(await requests_info_field.count()):\n",
    "    target = requests_info_field.nth(idx)\n",
    "    amount_string = await target.text_content()\n",
    "    amount_number = ankr.convert_to_number(amount_string)\n",
    "    if amount_number is not None:\n",
    "        total += amount_number"
   ]
  },
  {
   "cell_type": "code",
   "execution_count": 132,
   "id": "81978d30-4ec7-476c-b3ed-b319b313865f",
   "metadata": {},
   "outputs": [
    {
     "data": {
      "text/plain": [
       "'68.9B'"
      ]
     },
     "execution_count": 132,
     "metadata": {},
     "output_type": "execute_result"
    }
   ],
   "source": [
    "ankr.format_large_number(total)"
   ]
  },
  {
   "cell_type": "code",
   "execution_count": null,
   "id": "4b11676c-e99a-4463-8596-cd051f2285be",
   "metadata": {},
   "outputs": [],
   "source": []
  }
 ],
 "metadata": {
  "kernelspec": {
   "display_name": "Python 3 (ipykernel)",
   "language": "python",
   "name": "python3"
  },
  "language_info": {
   "codemirror_mode": {
    "name": "ipython",
    "version": 3
   },
   "file_extension": ".py",
   "mimetype": "text/x-python",
   "name": "python",
   "nbconvert_exporter": "python",
   "pygments_lexer": "ipython3",
   "version": "3.12.4"
  }
 },
 "nbformat": 4,
 "nbformat_minor": 5
}
