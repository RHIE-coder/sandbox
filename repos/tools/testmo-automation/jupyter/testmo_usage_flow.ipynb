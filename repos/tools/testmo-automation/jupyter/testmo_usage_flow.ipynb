{
 "cells": [
  {
   "cell_type": "code",
   "execution_count": 1,
   "id": "5cbcb3ef-c54f-49a6-83e9-56fd8f02e16a",
   "metadata": {
    "scrolled": true
   },
   "outputs": [
    {
     "name": "stdout",
     "output_type": "stream",
     "text": [
      "['/Users/rhiemh/.rye/py/cpython@3.12.4/lib/python312.zip', '/Users/rhiemh/.rye/py/cpython@3.12.4/lib/python3.12', '/Users/rhiemh/.rye/py/cpython@3.12.4/lib/python3.12/lib-dynload', '', '/Users/rhiemh/Workspace/sandbox/testmo-automation/.venv/lib/python3.12/site-packages', '/Users/rhiemh/Workspace/sandbox/testmo-automation/src', '/Users/rhiemh/Workspace/sandbox/testmo-automation/src']\n"
     ]
    }
   ],
   "source": [
    "import sys\n",
    "from pathlib import Path\n",
    "\n",
    "# Add the 'src' directory to the Python path\n",
    "sys.path.append(str(Path().resolve().parent / 'src'))\n",
    "print(sys.path)"
   ]
  },
  {
   "cell_type": "markdown",
   "id": "073e739a-95bd-481e-b13b-f1d2f2834f7b",
   "metadata": {},
   "source": [
    "-------"
   ]
  },
  {
   "cell_type": "code",
   "execution_count": 26,
   "id": "ea503462-9d0a-4068-a0e5-fe45e7c8b7c4",
   "metadata": {},
   "outputs": [
    {
     "name": "stdout",
     "output_type": "stream",
     "text": [
      "Reloaded: testmo_automation\n",
      "Reloaded: testmo_automation.runtime\n",
      "Reloaded: testmo_automation.runtime.asyn\n",
      "Reloaded: testmo_automation.runtime.asyn.browser\n",
      "Reloaded: testmo_automation.resovler\n",
      "Reloaded: testmo_automation.config\n",
      "Reloaded: testmo_automation.runtime.asyn.pages\n"
     ]
    }
   ],
   "source": [
    "import sys\n",
    "import importlib\n",
    "\n",
    "def reload_all(module_names):\n",
    "    \"\"\"\n",
    "    특정 모듈 및 하위 의존 모듈을 재귀적으로 reload합니다.\n",
    "    \"\"\"\n",
    "    for module_name in list(sys.modules.keys()):\n",
    "        if any(module_name.startswith(name) for name in module_names):\n",
    "            try:\n",
    "                importlib.reload(sys.modules[module_name])\n",
    "                print(f\"Reloaded: {module_name}\")\n",
    "            except Exception as e:\n",
    "                print(f\"Failed to reload {module_name}: {e}\")\n",
    "\n",
    "# 사용 예시: 'runtime' 패키지 및 관련 모듈 재로드\n",
    "reload_all([\"testmo_automation\"])"
   ]
  },
  {
   "cell_type": "code",
   "execution_count": 6,
   "id": "96db5905-b5a8-4a6a-b43e-2185435ec531",
   "metadata": {
    "scrolled": true
   },
   "outputs": [],
   "source": [
    "from testmo_automation.runtime.asyn import browser\n",
    "from testmo_automation.runtime.asyn.pages import Login\n",
    "\n",
    "testmopage = await browser.load_default_page(reset_session=True)\n",
    "login = Login(testmopage)\n",
    "await login.goto()\n",
    "await login.login()"
   ]
  },
  {
   "cell_type": "code",
   "execution_count": 7,
   "id": "8f4b2b65-1d3f-4921-a1de-d387b495281e",
   "metadata": {},
   "outputs": [],
   "source": [
    "await testmopage.context.browser.close()"
   ]
  },
  {
   "cell_type": "markdown",
   "id": "44a8fd69-fcf1-4b65-95ae-3b511de079e1",
   "metadata": {},
   "source": [
    "-----"
   ]
  },
  {
   "cell_type": "code",
   "execution_count": 27,
   "id": "6d6bb815-793d-43e9-9c34-74384d305445",
   "metadata": {},
   "outputs": [],
   "source": [
    "from testmo_automation.runtime.asyn import browser\n",
    "from testmo_automation.runtime.asyn.pages import Repository, Login, GroupCase"
   ]
  },
  {
   "cell_type": "code",
   "execution_count": 4,
   "id": "d3b873bd-5447-4eaa-96ea-47cd4b8ce653",
   "metadata": {},
   "outputs": [],
   "source": [
    "testmopage = await browser.load_default_page()"
   ]
  },
  {
   "cell_type": "code",
   "execution_count": 5,
   "id": "99f259ee-e42c-4ca6-972f-177489ec37e1",
   "metadata": {},
   "outputs": [],
   "source": [
    "repo = Repository(testmopage)\n",
    "await repo.goto()"
   ]
  },
  {
   "cell_type": "code",
   "execution_count": 6,
   "id": "6f791ab7-edd2-41f2-8c03-8838ae3ad93e",
   "metadata": {},
   "outputs": [],
   "source": [
    "await repo.collapse_all_folders()"
   ]
  },
  {
   "cell_type": "code",
   "execution_count": 7,
   "id": "5f41d879-afe3-47a2-bf9f-ecf7e6a7eaae",
   "metadata": {},
   "outputs": [],
   "source": [
    "group_list = await repo.group_list()\n",
    "grouping = await repo.grouping()"
   ]
  },
  {
   "cell_type": "code",
   "execution_count": 28,
   "id": "ff97f801-f075-4894-846a-bb4875d0bcf5",
   "metadata": {},
   "outputs": [],
   "source": [
    "groupcase = GroupCase(testmopage)"
   ]
  },
  {
   "cell_type": "code",
   "execution_count": 30,
   "id": "d883bf23-d2e5-47f4-881a-6b46df69016d",
   "metadata": {},
   "outputs": [],
   "source": [
    "for gid in grouping['213']:\n",
    "    await groupcase.case_mapping(gid)"
   ]
  },
  {
   "cell_type": "code",
   "execution_count": 74,
   "id": "03e371cb-58f0-4da4-9d42-131201573df2",
   "metadata": {
    "scrolled": true
   },
   "outputs": [
    {
     "name": "stdout",
     "output_type": "stream",
     "text": [
      "['2695', '2702', '2703', '2704']\n"
     ]
    }
   ],
   "source": [
    "from pprint import pprint\n",
    "gid = '266'\n",
    "tc = groupcase.get_cases()\n",
    "pprint(tc[gid])"
   ]
  },
  {
   "cell_type": "code",
   "execution_count": 75,
   "id": "d4e1641b-c4d6-4aa0-a0dd-2735f2f7eb9d",
   "metadata": {},
   "outputs": [],
   "source": [
    "tc_action_targets = tc[gid]"
   ]
  },
  {
   "cell_type": "code",
   "execution_count": 76,
   "id": "9aea808b-297c-465a-a13d-3bd1226728e7",
   "metadata": {
    "scrolled": true
   },
   "outputs": [],
   "source": [
    "for cid in tc_action_targets:\n",
    "    await groupcase.open_case_edit(gid, cid)\n",
    "    await groupcase.select_template(\"TestCaseWithReference\")\n",
    "    await groupcase.fill_sprint('1')\n",
    "    await groupcase.select_tags('new-673','기능테스트')\n",
    "    async def callback(self):\n",
    "        await self.editor_textarea.type(\"\"\"### JIRA: 기능: 입출금 테스트\n",
    "     - \"\"\")\n",
    "        # await self.editor_textarea.filter(has_text=re.compile(r\"^JIRA: 기능: 입출금 테스트$\")).press(\"Shift+ArrowLeft\")\n",
    "        await self.editor_toolbar_link.click()\n",
    "        await self.page.get_by_label(\"Link URL\").type(\"https://dkargo.atlassian.net/browse/NEW-673\")\n",
    "        await self.page.get_by_label(\"Save\").click()\n",
    "        await self.page.keyboard.press(\"Enter\")    \n",
    "    \n",
    "    await groupcase.fill_reference(callback)\n",
    "    await groupcase.save()"
   ]
  },
  {
   "cell_type": "code",
   "execution_count": null,
   "id": "7a6c69e0-1a86-48a7-b70b-d10c2c26ef56",
   "metadata": {},
   "outputs": [],
   "source": []
  }
 ],
 "metadata": {
  "kernelspec": {
   "display_name": "Python 3 (ipykernel)",
   "language": "python",
   "name": "python3"
  },
  "language_info": {
   "codemirror_mode": {
    "name": "ipython",
    "version": 3
   },
   "file_extension": ".py",
   "mimetype": "text/x-python",
   "name": "python",
   "nbconvert_exporter": "python",
   "pygments_lexer": "ipython3",
   "version": "3.12.4"
  }
 },
 "nbformat": 4,
 "nbformat_minor": 5
}
