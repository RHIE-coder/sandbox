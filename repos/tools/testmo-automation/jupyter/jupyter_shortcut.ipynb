{
 "cells": [
  {
   "cell_type": "markdown",
   "id": "98fdbecb-e9cf-4325-b351-cc7ba2d261e9",
   "metadata": {},
   "source": [
    "|단축키|설명|\n",
    "|:---:|:---:|\n",
    "|ESC (Ctrl + M)|Command Mode|\n",
    "|ENTER|Edit Mode|\n",
    "|A|prepend cell|\n",
    "|B|append cell|\n",
    "|M|Change cell to markdown|\n",
    "|Y|Change cell to code|\n",
    "|Ctrl + Enter|해당 셀 실행|\n",
    "|Alt + Enter|해당 셀 실행 후 append cell|\n",
    "|C|복사|\n",
    "|X|자르기|\n",
    "|V|아래에 붙여넣기|\n",
    "|D + D|선택 셀 삭제|\n",
    "|Ctrl + Z|Cell 내 되돌리기|\n",
    "|Ctrl + Y|Cell 내 다시실행|\n",
    "|Shift + M|아래 셀 합치기|\n",
    "|Ctrl+ Shift + -|셀 나누기|\n",
    "|Z|되돌리기|\n",
    "|Shift + L|셀 라인 표시|"
   ]
  }
 ],
 "metadata": {
  "kernelspec": {
   "display_name": "Python 3 (ipykernel)",
   "language": "python",
   "name": "python3"
  },
  "language_info": {
   "codemirror_mode": {
    "name": "ipython",
    "version": 3
   },
   "file_extension": ".py",
   "mimetype": "text/x-python",
   "name": "python",
   "nbconvert_exporter": "python",
   "pygments_lexer": "ipython3",
   "version": "3.12.4"
  }
 },
 "nbformat": 4,
 "nbformat_minor": 5
}
