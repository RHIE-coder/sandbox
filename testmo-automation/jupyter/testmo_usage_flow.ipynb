{
 "cells": [
  {
   "cell_type": "code",
   "execution_count": 1,
   "id": "5cbcb3ef-c54f-49a6-83e9-56fd8f02e16a",
   "metadata": {
    "scrolled": true
   },
   "outputs": [
    {
     "name": "stdout",
     "output_type": "stream",
     "text": [
      "['/Users/rhiemh/.rye/py/cpython@3.12.4/lib/python312.zip', '/Users/rhiemh/.rye/py/cpython@3.12.4/lib/python3.12', '/Users/rhiemh/.rye/py/cpython@3.12.4/lib/python3.12/lib-dynload', '', '/Users/rhiemh/workspace.me/sandbox/testmo-automation/.venv/lib/python3.12/site-packages', '/Users/rhiemh/workspace.me/sandbox/testmo-automation/src', '/Users/rhiemh/workspace.me/sandbox/testmo-automation/src']\n"
     ]
    }
   ],
   "source": [
    "import sys\n",
    "from pathlib import Path\n",
    "\n",
    "# Add the 'src' directory to the Python path\n",
    "sys.path.append(str(Path().resolve().parent / 'src'))\n",
    "print(sys.path)"
   ]
  },
  {
   "cell_type": "markdown",
   "id": "073e739a-95bd-481e-b13b-f1d2f2834f7b",
   "metadata": {},
   "source": [
    "-------"
   ]
  },
  {
   "cell_type": "code",
   "execution_count": 29,
   "id": "ea503462-9d0a-4068-a0e5-fe45e7c8b7c4",
   "metadata": {},
   "outputs": [
    {
     "name": "stdout",
     "output_type": "stream",
     "text": [
      "Reloaded: testmo_automation\n",
      "Reloaded: testmo_automation.runtime\n",
      "Reloaded: testmo_automation.runtime.asyn\n",
      "Reloaded: testmo_automation.runtime.asyn.browser\n",
      "Reloaded: testmo_automation.resovler\n",
      "Reloaded: testmo_automation.config\n",
      "Reloaded: testmo_automation.runtime.asyn.pages\n"
     ]
    }
   ],
   "source": [
    "import sys\n",
    "import importlib\n",
    "\n",
    "def reload_all(module_names):\n",
    "    \"\"\"\n",
    "    특정 모듈 및 하위 의존 모듈을 재귀적으로 reload합니다.\n",
    "    \"\"\"\n",
    "    for module_name in list(sys.modules.keys()):\n",
    "        if any(module_name.startswith(name) for name in module_names):\n",
    "            try:\n",
    "                importlib.reload(sys.modules[module_name])\n",
    "                print(f\"Reloaded: {module_name}\")\n",
    "            except Exception as e:\n",
    "                print(f\"Failed to reload {module_name}: {e}\")\n",
    "\n",
    "# 사용 예시: 'runtime' 패키지 및 관련 모듈 재로드\n",
    "reload_all([\"testmo_automation\"])"
   ]
  },
  {
   "cell_type": "code",
   "execution_count": 9,
   "id": "96db5905-b5a8-4a6a-b43e-2185435ec531",
   "metadata": {},
   "outputs": [],
   "source": [
    "from testmo_automation.runtime.asyn import browser\n",
    "from testmo_automation.runtime.asyn.pages import Login\n",
    "\n",
    "testmopage = await browser.load_default_page()\n",
    "login = Login(testmopage)\n",
    "await login.goto()\n",
    "await login.login()"
   ]
  },
  {
   "cell_type": "code",
   "execution_count": 15,
   "id": "8f4b2b65-1d3f-4921-a1de-d387b495281e",
   "metadata": {},
   "outputs": [],
   "source": [
    "await testmopage.context.browser.close()"
   ]
  },
  {
   "cell_type": "markdown",
   "id": "44a8fd69-fcf1-4b65-95ae-3b511de079e1",
   "metadata": {},
   "source": [
    "-----"
   ]
  },
  {
   "cell_type": "code",
   "execution_count": 30,
   "id": "6d6bb815-793d-43e9-9c34-74384d305445",
   "metadata": {},
   "outputs": [],
   "source": [
    "from testmo_automation.runtime.asyn import browser\n",
    "from testmo_automation.runtime.asyn.pages import Repository, Login"
   ]
  },
  {
   "cell_type": "code",
   "execution_count": 17,
   "id": "d3b873bd-5447-4eaa-96ea-47cd4b8ce653",
   "metadata": {},
   "outputs": [],
   "source": [
    "testmopage = await browser.load_default_page()"
   ]
  },
  {
   "cell_type": "code",
   "execution_count": 31,
   "id": "99f259ee-e42c-4ca6-972f-177489ec37e1",
   "metadata": {},
   "outputs": [],
   "source": [
    "repo = Repository(testmopage)\n",
    "await repo.goto()"
   ]
  },
  {
   "cell_type": "code",
   "execution_count": 19,
   "id": "20d2c3de-ec83-43bd-b714-a41d50719918",
   "metadata": {},
   "outputs": [
    {
     "data": {
      "text/plain": [
       "8"
      ]
     },
     "execution_count": 19,
     "metadata": {},
     "output_type": "execute_result"
    }
   ],
   "source": [
    "await repo.not_expanded_folder_count()"
   ]
  },
  {
   "cell_type": "code",
   "execution_count": 33,
   "id": "6f791ab7-edd2-41f2-8c03-8838ae3ad93e",
   "metadata": {},
   "outputs": [],
   "source": [
    "await repo.collapse_all_folders()"
   ]
  },
  {
   "cell_type": "code",
   "execution_count": 100,
   "id": "3cb175eb-19aa-4d90-af4b-e29d819c70ae",
   "metadata": {},
   "outputs": [
    {
     "ename": "NameError",
     "evalue": "name 'locator' is not defined",
     "output_type": "error",
     "traceback": [
      "\u001b[0;31m---------------------------------------------------------------------------\u001b[0m",
      "\u001b[0;31mNameError\u001b[0m                                 Traceback (most recent call last)",
      "Cell \u001b[0;32mIn[100], line 61\u001b[0m\n\u001b[1;32m     58\u001b[0m         \u001b[38;5;28;01mawait\u001b[39;00m runner(\u001b[38;5;241m192\u001b[39m, depth)\n\u001b[1;32m     60\u001b[0m testpage \u001b[38;5;241m=\u001b[39m TestPage(repo\u001b[38;5;241m.\u001b[39mpage)\n\u001b[0;32m---> 61\u001b[0m \u001b[38;5;28;01mawait\u001b[39;00m testpage\u001b[38;5;241m.\u001b[39mgroup_info()\n",
      "Cell \u001b[0;32mIn[100], line 58\u001b[0m, in \u001b[0;36mTestPage.group_info\u001b[0;34m(self)\u001b[0m\n\u001b[1;32m     56\u001b[0m \u001b[38;5;66;03m# for data_id in data_id_map.keys():\u001b[39;00m\n\u001b[1;32m     57\u001b[0m depth\u001b[38;5;241m=\u001b[39m\u001b[38;5;241m1\u001b[39m\n\u001b[0;32m---> 58\u001b[0m \u001b[38;5;28;01mawait\u001b[39;00m runner(\u001b[38;5;241m192\u001b[39m, depth)\n",
      "Cell \u001b[0;32mIn[100], line 49\u001b[0m, in \u001b[0;36mTestPage.group_info.<locals>.runner\u001b[0;34m(data_id, depth)\u001b[0m\n\u001b[1;32m     46\u001b[0m subs \u001b[38;5;241m=\u001b[39m target\u001b[38;5;241m.\u001b[39mlocator(\u001b[38;5;124m\"\u001b[39m\u001b[38;5;124m> .tree__node__subs\u001b[39m\u001b[38;5;124m\"\u001b[39m)\u001b[38;5;241m.\u001b[39mlocator(\u001b[38;5;124m\"\u001b[39m\u001b[38;5;124m> div[data-id]\u001b[39m\u001b[38;5;124m\"\u001b[39m)\n\u001b[1;32m     48\u001b[0m \u001b[38;5;28;01mfor\u001b[39;00m idx \u001b[38;5;129;01min\u001b[39;00m \u001b[38;5;28mrange\u001b[39m(\u001b[38;5;28;01mawait\u001b[39;00m subs\u001b[38;5;241m.\u001b[39mcount()):\n\u001b[0;32m---> 49\u001b[0m     target \u001b[38;5;241m=\u001b[39m \u001b[43mlocator\u001b[49m\u001b[38;5;241m.\u001b[39mnth(idx)\n\u001b[1;32m     50\u001b[0m     data_id \u001b[38;5;241m=\u001b[39m \u001b[38;5;28;01mawait\u001b[39;00m target\u001b[38;5;241m.\u001b[39mget_attribute(\u001b[38;5;124m'\u001b[39m\u001b[38;5;124mdata-id\u001b[39m\u001b[38;5;124m'\u001b[39m)\n\u001b[1;32m     51\u001b[0m     data_name \u001b[38;5;241m=\u001b[39m \u001b[38;5;28;01mawait\u001b[39;00m target\u001b[38;5;241m.\u001b[39mget_attribute(\u001b[38;5;124m'\u001b[39m\u001b[38;5;124mdata-name\u001b[39m\u001b[38;5;124m'\u001b[39m)\n",
      "\u001b[0;31mNameError\u001b[0m: name 'locator' is not defined"
     ]
    }
   ],
   "source": [
    "from pprint import pprint\n",
    "\n",
    "class TestPage:\n",
    "    def __init__(self, page):\n",
    "        self.page = page\n",
    "        \n",
    "        self.groups = self.page.locator(selector=\"div[data-name='groups']\")\n",
    "        self.not_expanded_list = self.groups.locator(\"[data-name]\").locator('[class*=\"tree__node--expandable\"]:not([class*=\"tree__node--expanded\"])')\n",
    "        self.clickable_to_expand = self.not_expanded_list.first.locator(\".tree__node__entry__expansion__expand\")\n",
    "        self.datalist = self.groups.locator('[data-id]')\n",
    "\n",
    "\n",
    "    async def parse_sub(self):\n",
    "        ...\n",
    "\n",
    "    async def printer_data_id_and_name(self, locator, depth):\n",
    "\n",
    "        for idx in range(await locator.count()):\n",
    "            target = locator.nth(idx)\n",
    "            data_id = await target.get_attribute('data-id')\n",
    "            data_name = await target.get_attribute('data-name')\n",
    "            depth_symbol = '>' * depth\n",
    "            print(f\"{depth_symbol}data-id={data_id} data-name={data_name}\")\n",
    "                                                 \n",
    "\n",
    "    async def group_info(self):\n",
    "\n",
    "        id_structure = dict()\n",
    "        name_structure = dict()\n",
    "        \n",
    "        data_id_map = dict()\n",
    "        data_components_map = dict()\n",
    "        \n",
    "        data_id_parsing_history = dict()\n",
    "        \n",
    "\n",
    "        for idx in range(await self.datalist.count()):\n",
    "            target = self.datalist.nth(idx)\n",
    "            data_id = await target.get_attribute('data-id')\n",
    "            data_name = await target.get_attribute('data-name')\n",
    "            data_id_map[data_id] = data_name\n",
    "            data_id_parsing_history[data_id] = False\n",
    "            \n",
    "        async def runner(data_id, depth):\n",
    "            target = self.groups.locator(f\"div[data-id='{data_id}']\")\n",
    "            subs = target.locator(\"> .tree__node__subs\").locator(\"> div[data-id]\")\n",
    "\n",
    "            for idx in range(await subs.count()):\n",
    "                target = subs.nth(idx)\n",
    "                data_id = await target.get_attribute('data-id')\n",
    "                data_name = await target.get_attribute('data-name')\n",
    "                depth_symbol = '>' * depth\n",
    "                print(f\"{depth_symbol}data-id={data_id} data-name={data_name}\")\n",
    "                await runner(data_id, depth+1)\n",
    "            \n",
    "        # for data_id in data_id_map.keys():\n",
    "        depth=1\n",
    "        await runner(192, depth)\n",
    "\n",
    "testpage = TestPage(repo.page)\n",
    "await testpage.group_info()"
   ]
  },
  {
   "cell_type": "code",
   "execution_count": null,
   "id": "7636d00a-e549-4aa8-9c12-da663077f743",
   "metadata": {},
   "outputs": [],
   "source": []
  },
  {
   "cell_type": "code",
   "execution_count": null,
   "id": "5c421999-d37b-4a01-bfec-97130e34bd95",
   "metadata": {},
   "outputs": [],
   "source": []
  },
  {
   "cell_type": "code",
   "execution_count": 28,
   "id": "4dc4bffd-a9f2-4527-936e-6bcff11fd7ef",
   "metadata": {},
   "outputs": [
    {
     "name": "stdout",
     "output_type": "stream",
     "text": [
      "Reloaded: testmo_automation\n",
      "Reloaded: testmo_automation.runtime\n",
      "Reloaded: testmo_automation.runtime.asyn\n",
      "Reloaded: testmo_automation.runtime.asyn.browser\n",
      "Reloaded: testmo_automation.resovler\n",
      "Reloaded: testmo_automation.config\n",
      "Reloaded: testmo_automation.runtime.asyn.pages\n"
     ]
    }
   ],
   "source": [
    "reload_all([\"testmo_automation\"])"
   ]
  },
  {
   "cell_type": "code",
   "execution_count": null,
   "id": "18ae61dd-8183-4881-a6ca-d1e817c969a1",
   "metadata": {},
   "outputs": [],
   "source": []
  },
  {
   "cell_type": "code",
   "execution_count": null,
   "id": "a7bbe2be-b3f1-4fce-be88-f8d9a5046062",
   "metadata": {},
   "outputs": [],
   "source": []
  },
  {
   "cell_type": "code",
   "execution_count": null,
   "id": "d4a6564d-130a-4d07-a39b-deb45ca9e051",
   "metadata": {},
   "outputs": [],
   "source": []
  },
  {
   "cell_type": "code",
   "execution_count": null,
   "id": "8acaae58-69a4-49f7-83d4-e7906a022b58",
   "metadata": {},
   "outputs": [],
   "source": []
  },
  {
   "cell_type": "code",
   "execution_count": 316,
   "id": "a15b515f-7103-4005-9f4e-d2385730e2c7",
   "metadata": {},
   "outputs": [],
   "source": [
    "async def get_into_group(page, group_id):\n",
    "    await page.goto(f\"http://{workspace}.testmo.net/repositories/{repository_num}?group_id={group_id}\")\n",
    "    \n",
    "async def get_cases(page):\n",
    "    E_testcases = list()\n",
    "    \n",
    "    while True:\n",
    "        E_cases = page.locator(selector=\"table[data-target='components--table.table']\").locator(\"tbody\").locator(\"tr[data-id]\")\n",
    "        cnt = await E_cases.count()\n",
    "        print(\"[count]\")\n",
    "        print(cnt)\n",
    "        if cnt == 0:\n",
    "            break\n",
    "    \n",
    "        for idx in range(cnt):\n",
    "            E_tr = E_cases.nth(idx)\n",
    "            # id = await E_tr.get_attribute(\"data-id\")\n",
    "            E_testcases.append(E_tr)\n",
    "            \n",
    "        print(\"testcase\")\n",
    "        print(len(E_testcases))\n",
    "            \n",
    "        E_next_btn = page.locator(selector=\"button[data-action='click->components--pagination#doNextPage']\")\n",
    "        is_exist_next = await E_next_btn.is_visible()\n",
    "        \n",
    "        print(\"is_exist_next\")\n",
    "        print(is_exist_next)\n",
    "        if not is_exist_next:\n",
    "            break\n",
    "            \n",
    "        is_disable_to_click = await E_next_btn.is_disabled()\n",
    "\n",
    "        print(\"is disable to click?\")\n",
    "        print(is_disable_to_click)\n",
    "        if is_disable_to_click:\n",
    "            break\n",
    "    \n",
    "        await E_next_btn.click()\n",
    "        await asyncio.sleep(0.5)\n",
    "\n",
    "    print(\"testcase\")\n",
    "    print(len(E_testcases))        \n",
    "    return E_testcases\n",
    "\n",
    "async def get_case_ids(E_cases):\n",
    "    ids = list()\n",
    "    cnt = await E_cases.count()\n",
    "    for idx in range(cnt):\n",
    "        E_tr = E_cases.nth(idx)\n",
    "        id = await E_tr.get_attribute(\"data-id\")\n",
    "        ids.append(id)\n",
    "    return ids"
   ]
  }
 ],
 "metadata": {
  "kernelspec": {
   "display_name": "Python 3 (ipykernel)",
   "language": "python",
   "name": "python3"
  },
  "language_info": {
   "codemirror_mode": {
    "name": "ipython",
    "version": 3
   },
   "file_extension": ".py",
   "mimetype": "text/x-python",
   "name": "python",
   "nbconvert_exporter": "python",
   "pygments_lexer": "ipython3",
   "version": "3.12.4"
  }
 },
 "nbformat": 4,
 "nbformat_minor": 5
}
