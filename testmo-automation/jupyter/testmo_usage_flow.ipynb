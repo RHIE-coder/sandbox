{
 "cells": [
  {
   "cell_type": "code",
   "execution_count": 297,
   "id": "6040ffde-e610-4a06-9b68-e381aa3505a0",
   "metadata": {},
   "outputs": [
    {
     "name": "stdout",
     "output_type": "stream",
     "text": [
      "Sections: ['account', 'project']\n",
      "Sections.Keys: ['username', 'password', 'workspace']\n"
     ]
    }
   ],
   "source": [
    "from configparser import ConfigParser\n",
    "from pathlib import Path\n",
    "import os\n",
    "config = ConfigParser()\n",
    "\n",
    "p = Path(os.getcwd()) / \"..\" / \".testmo.ini\"\n",
    "config.read(p.resolve())\n",
    "sections = config.sections()\n",
    "print(f\"Sections: {sections}\")\n",
    "print(f\"Sections.Keys: {list(config[sections[0]].keys())}\")"
   ]
  },
  {
   "cell_type": "code",
   "execution_count": 298,
   "id": "8cc6a0c7-b830-4ccc-afb0-6a6dfe826a6e",
   "metadata": {},
   "outputs": [],
   "source": [
    "account = config[\"account\"]\n",
    "\n",
    "username = account[\"username\"]\n",
    "password = account[\"password\"]\n",
    "workspace = account[\"workspace\"]\n",
    "\n",
    "project = config[\"project\"]\n",
    "\n",
    "project_name = project[\"project_name\"]\n",
    "repository_num = project[\"repository_num\"]"
   ]
  },
  {
   "cell_type": "code",
   "execution_count": 299,
   "id": "4f4777fd-a420-431e-88aa-19304c15d148",
   "metadata": {},
   "outputs": [],
   "source": [
    "import asyncio\n",
    "from playwright.async_api import async_playwright, Playwright"
   ]
  },
  {
   "cell_type": "code",
   "execution_count": 300,
   "id": "143d39af-4874-4dee-8f0c-05e37bec21e0",
   "metadata": {},
   "outputs": [],
   "source": [
    "options = dict(\n",
    "    headless=False,\n",
    "    slow_mo=100,\n",
    "    args=[\n",
    "        \"--start-maximized\",\n",
    "        \"--window-size=1920,1080\",\n",
    "    ],\n",
    ")"
   ]
  },
  {
   "cell_type": "code",
   "execution_count": 301,
   "id": "a058ad53-74e9-49cc-b3fd-f4f5775d9b28",
   "metadata": {},
   "outputs": [],
   "source": [
    "playwright = await async_playwright().start()\n",
    "browser = await playwright.chromium.launch(**options)"
   ]
  },
  {
   "cell_type": "code",
   "execution_count": 288,
   "id": "03cae972-b4bc-4055-b304-e6afffa69e11",
   "metadata": {},
   "outputs": [],
   "source": [
    "# context = await browser.new_context(\n",
    "#     screen=dict(\n",
    "#         width=1920,\n",
    "#         height=1080,\n",
    "#     ),\n",
    "#     viewport=dict(\n",
    "#         width=1920,\n",
    "#         height=1080,\n",
    "#     )\n",
    "# )\n",
    "\n",
    "# page = await context.new_page()"
   ]
  },
  {
   "cell_type": "code",
   "execution_count": 302,
   "id": "f4860e60-0cb2-434a-895c-b0e928dd531c",
   "metadata": {},
   "outputs": [],
   "source": [
    "page = await browser.new_page()"
   ]
  },
  {
   "cell_type": "code",
   "execution_count": 303,
   "id": "d3d3b086-8fb3-4731-a269-489329d25c18",
   "metadata": {},
   "outputs": [
    {
     "name": "stdout",
     "output_type": "stream",
     "text": [
      "\n"
     ]
    }
   ],
   "source": [
    "await page.goto(f\"https://{workspace}.testmo.net\")\n",
    "print()"
   ]
  },
  {
   "cell_type": "code",
   "execution_count": 304,
   "id": "e086a170-b6f2-4dbd-999f-4c60d076b9ec",
   "metadata": {},
   "outputs": [],
   "source": [
    "E_email = page.locator(selector=\"input[name='email']\")\n",
    "E_password = page.locator(selector=\"input[name='password']\")\n",
    "\n",
    "await E_email.type(username)\n",
    "await E_password.type(password)"
   ]
  },
  {
   "cell_type": "code",
   "execution_count": 305,
   "id": "24ed348a-a4d2-4871-bf27-0c0778cb9e96",
   "metadata": {},
   "outputs": [],
   "source": [
    "E_submit = page.locator(selector=\"button[type='submit']\")\n",
    "\n",
    "await E_submit.click()"
   ]
  },
  {
   "cell_type": "code",
   "execution_count": 306,
   "id": "d8ad86bf-bb35-4696-8543-106205b6f94f",
   "metadata": {},
   "outputs": [
    {
     "name": "stdout",
     "output_type": "stream",
     "text": [
      "\n"
     ]
    }
   ],
   "source": [
    "await page.goto(f\"http://{workspace}.testmo.net/repositories/{repository_num}\")\n",
    "print()"
   ]
  },
  {
   "cell_type": "markdown",
   "id": "f60b59ad-a4ee-4569-b492-09068a75525d",
   "metadata": {},
   "source": [
    "-----------------------"
   ]
  },
  {
   "cell_type": "code",
   "execution_count": 313,
   "id": "a15b515f-7103-4005-9f4e-d2385730e2c7",
   "metadata": {},
   "outputs": [],
   "source": [
    "async def get_into_group(page, group_id):\n",
    "    await page.goto(f\"http://{workspace}.testmo.net/repositories/{repository_num}?group_id={group_id}\")\n",
    "    \n",
    "async def get_cases(page):\n",
    "    E_testcases = list()\n",
    "    \n",
    "    while True:\n",
    "        E_cases = page.locator(selector=\"table[data-target='components--table.table']\").locator(\"tbody\").locator(\"tr[data-id]\")\n",
    "        cnt = await E_cases.count()\n",
    "        print(\"[count]\")\n",
    "        print(cnt)\n",
    "        if cnt == 0:\n",
    "            break\n",
    "    \n",
    "        for idx in range(cnt):\n",
    "            E_tr = E_cases.nth(idx)\n",
    "            # id = await E_tr.get_attribute(\"data-id\")\n",
    "            E_testcases.append(E_tr)\n",
    "            \n",
    "        print(\"testcase\")\n",
    "        print(len(E_testcases))\n",
    "            \n",
    "        E_next_btn = page.locator(selector=\"button[data-action='click->components--pagination#doNextPage']\")\n",
    "        is_exist_next = await E_next_btn.is_visible()\n",
    "        \n",
    "        print(\"is_exist_next\")\n",
    "        print(is_exist_next)\n",
    "        if not is_exist_next:\n",
    "            break\n",
    "            \n",
    "        is_disable_to_click = await E_next_btn.is_disabled()\n",
    "\n",
    "        print(\"is disable to click?\")\n",
    "        print(is_disable_to_click)\n",
    "        if is_disable_to_click:\n",
    "            break\n",
    "    \n",
    "        await E_next_btn.click()\n",
    "        await asyncio.sleep(1)\n",
    "\n",
    "    print(\"testcase\")\n",
    "    print(len(E_testcases))        \n",
    "    return E_testcases\n",
    "\n",
    "async def get_case_ids(E_cases):\n",
    "    ids = list()\n",
    "    cnt = await E_cases.count()\n",
    "    for idx in range(cnt):\n",
    "        E_tr = E_cases.nth(idx)\n",
    "        id = await E_tr.get_attribute(\"data-id\")\n",
    "        ids.append(id)\n",
    "    return ids"
   ]
  },
  {
   "cell_type": "code",
   "execution_count": 311,
   "id": "1c12912f-f903-4b8c-afe3-11e8de868ad8",
   "metadata": {},
   "outputs": [],
   "source": [
    "await get_into_group(page, 259)"
   ]
  },
  {
   "cell_type": "code",
   "execution_count": 312,
   "id": "3244dd72-924d-49b2-b61b-3da2ee670e1e",
   "metadata": {
    "scrolled": true
   },
   "outputs": [
    {
     "name": "stdout",
     "output_type": "stream",
     "text": [
      "[count]\n",
      "25\n",
      "testcase\n",
      "25\n",
      "is_exist_next\n",
      "True\n",
      "is disable to click?\n",
      "False\n",
      "[count]\n",
      "18\n",
      "testcase\n",
      "43\n",
      "is_exist_next\n",
      "True\n",
      "is disable to click?\n",
      "True\n",
      "testcase\n",
      "43\n"
     ]
    },
    {
     "data": {
      "text/plain": [
       "[<Locator frame=<Frame name= url='https://dkargo.testmo.net/repositories/5?group_id=259&pagination_current=2'> selector=\"table[data-target='components--table.table'] >> tbody >> tr[data-id] >> nth=0\">,\n",
       " <Locator frame=<Frame name= url='https://dkargo.testmo.net/repositories/5?group_id=259&pagination_current=2'> selector=\"table[data-target='components--table.table'] >> tbody >> tr[data-id] >> nth=1\">,\n",
       " <Locator frame=<Frame name= url='https://dkargo.testmo.net/repositories/5?group_id=259&pagination_current=2'> selector=\"table[data-target='components--table.table'] >> tbody >> tr[data-id] >> nth=2\">,\n",
       " <Locator frame=<Frame name= url='https://dkargo.testmo.net/repositories/5?group_id=259&pagination_current=2'> selector=\"table[data-target='components--table.table'] >> tbody >> tr[data-id] >> nth=3\">,\n",
       " <Locator frame=<Frame name= url='https://dkargo.testmo.net/repositories/5?group_id=259&pagination_current=2'> selector=\"table[data-target='components--table.table'] >> tbody >> tr[data-id] >> nth=4\">,\n",
       " <Locator frame=<Frame name= url='https://dkargo.testmo.net/repositories/5?group_id=259&pagination_current=2'> selector=\"table[data-target='components--table.table'] >> tbody >> tr[data-id] >> nth=5\">,\n",
       " <Locator frame=<Frame name= url='https://dkargo.testmo.net/repositories/5?group_id=259&pagination_current=2'> selector=\"table[data-target='components--table.table'] >> tbody >> tr[data-id] >> nth=6\">,\n",
       " <Locator frame=<Frame name= url='https://dkargo.testmo.net/repositories/5?group_id=259&pagination_current=2'> selector=\"table[data-target='components--table.table'] >> tbody >> tr[data-id] >> nth=7\">,\n",
       " <Locator frame=<Frame name= url='https://dkargo.testmo.net/repositories/5?group_id=259&pagination_current=2'> selector=\"table[data-target='components--table.table'] >> tbody >> tr[data-id] >> nth=8\">,\n",
       " <Locator frame=<Frame name= url='https://dkargo.testmo.net/repositories/5?group_id=259&pagination_current=2'> selector=\"table[data-target='components--table.table'] >> tbody >> tr[data-id] >> nth=9\">,\n",
       " <Locator frame=<Frame name= url='https://dkargo.testmo.net/repositories/5?group_id=259&pagination_current=2'> selector=\"table[data-target='components--table.table'] >> tbody >> tr[data-id] >> nth=10\">,\n",
       " <Locator frame=<Frame name= url='https://dkargo.testmo.net/repositories/5?group_id=259&pagination_current=2'> selector=\"table[data-target='components--table.table'] >> tbody >> tr[data-id] >> nth=11\">,\n",
       " <Locator frame=<Frame name= url='https://dkargo.testmo.net/repositories/5?group_id=259&pagination_current=2'> selector=\"table[data-target='components--table.table'] >> tbody >> tr[data-id] >> nth=12\">,\n",
       " <Locator frame=<Frame name= url='https://dkargo.testmo.net/repositories/5?group_id=259&pagination_current=2'> selector=\"table[data-target='components--table.table'] >> tbody >> tr[data-id] >> nth=13\">,\n",
       " <Locator frame=<Frame name= url='https://dkargo.testmo.net/repositories/5?group_id=259&pagination_current=2'> selector=\"table[data-target='components--table.table'] >> tbody >> tr[data-id] >> nth=14\">,\n",
       " <Locator frame=<Frame name= url='https://dkargo.testmo.net/repositories/5?group_id=259&pagination_current=2'> selector=\"table[data-target='components--table.table'] >> tbody >> tr[data-id] >> nth=15\">,\n",
       " <Locator frame=<Frame name= url='https://dkargo.testmo.net/repositories/5?group_id=259&pagination_current=2'> selector=\"table[data-target='components--table.table'] >> tbody >> tr[data-id] >> nth=16\">,\n",
       " <Locator frame=<Frame name= url='https://dkargo.testmo.net/repositories/5?group_id=259&pagination_current=2'> selector=\"table[data-target='components--table.table'] >> tbody >> tr[data-id] >> nth=17\">,\n",
       " <Locator frame=<Frame name= url='https://dkargo.testmo.net/repositories/5?group_id=259&pagination_current=2'> selector=\"table[data-target='components--table.table'] >> tbody >> tr[data-id] >> nth=18\">,\n",
       " <Locator frame=<Frame name= url='https://dkargo.testmo.net/repositories/5?group_id=259&pagination_current=2'> selector=\"table[data-target='components--table.table'] >> tbody >> tr[data-id] >> nth=19\">,\n",
       " <Locator frame=<Frame name= url='https://dkargo.testmo.net/repositories/5?group_id=259&pagination_current=2'> selector=\"table[data-target='components--table.table'] >> tbody >> tr[data-id] >> nth=20\">,\n",
       " <Locator frame=<Frame name= url='https://dkargo.testmo.net/repositories/5?group_id=259&pagination_current=2'> selector=\"table[data-target='components--table.table'] >> tbody >> tr[data-id] >> nth=21\">,\n",
       " <Locator frame=<Frame name= url='https://dkargo.testmo.net/repositories/5?group_id=259&pagination_current=2'> selector=\"table[data-target='components--table.table'] >> tbody >> tr[data-id] >> nth=22\">,\n",
       " <Locator frame=<Frame name= url='https://dkargo.testmo.net/repositories/5?group_id=259&pagination_current=2'> selector=\"table[data-target='components--table.table'] >> tbody >> tr[data-id] >> nth=23\">,\n",
       " <Locator frame=<Frame name= url='https://dkargo.testmo.net/repositories/5?group_id=259&pagination_current=2'> selector=\"table[data-target='components--table.table'] >> tbody >> tr[data-id] >> nth=24\">,\n",
       " <Locator frame=<Frame name= url='https://dkargo.testmo.net/repositories/5?group_id=259&pagination_current=2'> selector=\"table[data-target='components--table.table'] >> tbody >> tr[data-id] >> nth=0\">,\n",
       " <Locator frame=<Frame name= url='https://dkargo.testmo.net/repositories/5?group_id=259&pagination_current=2'> selector=\"table[data-target='components--table.table'] >> tbody >> tr[data-id] >> nth=1\">,\n",
       " <Locator frame=<Frame name= url='https://dkargo.testmo.net/repositories/5?group_id=259&pagination_current=2'> selector=\"table[data-target='components--table.table'] >> tbody >> tr[data-id] >> nth=2\">,\n",
       " <Locator frame=<Frame name= url='https://dkargo.testmo.net/repositories/5?group_id=259&pagination_current=2'> selector=\"table[data-target='components--table.table'] >> tbody >> tr[data-id] >> nth=3\">,\n",
       " <Locator frame=<Frame name= url='https://dkargo.testmo.net/repositories/5?group_id=259&pagination_current=2'> selector=\"table[data-target='components--table.table'] >> tbody >> tr[data-id] >> nth=4\">,\n",
       " <Locator frame=<Frame name= url='https://dkargo.testmo.net/repositories/5?group_id=259&pagination_current=2'> selector=\"table[data-target='components--table.table'] >> tbody >> tr[data-id] >> nth=5\">,\n",
       " <Locator frame=<Frame name= url='https://dkargo.testmo.net/repositories/5?group_id=259&pagination_current=2'> selector=\"table[data-target='components--table.table'] >> tbody >> tr[data-id] >> nth=6\">,\n",
       " <Locator frame=<Frame name= url='https://dkargo.testmo.net/repositories/5?group_id=259&pagination_current=2'> selector=\"table[data-target='components--table.table'] >> tbody >> tr[data-id] >> nth=7\">,\n",
       " <Locator frame=<Frame name= url='https://dkargo.testmo.net/repositories/5?group_id=259&pagination_current=2'> selector=\"table[data-target='components--table.table'] >> tbody >> tr[data-id] >> nth=8\">,\n",
       " <Locator frame=<Frame name= url='https://dkargo.testmo.net/repositories/5?group_id=259&pagination_current=2'> selector=\"table[data-target='components--table.table'] >> tbody >> tr[data-id] >> nth=9\">,\n",
       " <Locator frame=<Frame name= url='https://dkargo.testmo.net/repositories/5?group_id=259&pagination_current=2'> selector=\"table[data-target='components--table.table'] >> tbody >> tr[data-id] >> nth=10\">,\n",
       " <Locator frame=<Frame name= url='https://dkargo.testmo.net/repositories/5?group_id=259&pagination_current=2'> selector=\"table[data-target='components--table.table'] >> tbody >> tr[data-id] >> nth=11\">,\n",
       " <Locator frame=<Frame name= url='https://dkargo.testmo.net/repositories/5?group_id=259&pagination_current=2'> selector=\"table[data-target='components--table.table'] >> tbody >> tr[data-id] >> nth=12\">,\n",
       " <Locator frame=<Frame name= url='https://dkargo.testmo.net/repositories/5?group_id=259&pagination_current=2'> selector=\"table[data-target='components--table.table'] >> tbody >> tr[data-id] >> nth=13\">,\n",
       " <Locator frame=<Frame name= url='https://dkargo.testmo.net/repositories/5?group_id=259&pagination_current=2'> selector=\"table[data-target='components--table.table'] >> tbody >> tr[data-id] >> nth=14\">,\n",
       " <Locator frame=<Frame name= url='https://dkargo.testmo.net/repositories/5?group_id=259&pagination_current=2'> selector=\"table[data-target='components--table.table'] >> tbody >> tr[data-id] >> nth=15\">,\n",
       " <Locator frame=<Frame name= url='https://dkargo.testmo.net/repositories/5?group_id=259&pagination_current=2'> selector=\"table[data-target='components--table.table'] >> tbody >> tr[data-id] >> nth=16\">,\n",
       " <Locator frame=<Frame name= url='https://dkargo.testmo.net/repositories/5?group_id=259&pagination_current=2'> selector=\"table[data-target='components--table.table'] >> tbody >> tr[data-id] >> nth=17\">]"
      ]
     },
     "execution_count": 312,
     "metadata": {},
     "output_type": "execute_result"
    }
   ],
   "source": [
    "await get_cases(page)"
   ]
  },
  {
   "cell_type": "code",
   "execution_count": null,
   "id": "ff4b7511-5a9d-4b1b-b82c-97934c34b8bb",
   "metadata": {},
   "outputs": [],
   "source": []
  },
  {
   "cell_type": "code",
   "execution_count": null,
   "id": "6da1b7f9-87dc-474c-8725-f9e97cf62317",
   "metadata": {},
   "outputs": [],
   "source": []
  }
 ],
 "metadata": {
  "kernelspec": {
   "display_name": "Python 3 (ipykernel)",
   "language": "python",
   "name": "python3"
  },
  "language_info": {
   "codemirror_mode": {
    "name": "ipython",
    "version": 3
   },
   "file_extension": ".py",
   "mimetype": "text/x-python",
   "name": "python",
   "nbconvert_exporter": "python",
   "pygments_lexer": "ipython3",
   "version": "3.12.4"
  }
 },
 "nbformat": 4,
 "nbformat_minor": 5
}
